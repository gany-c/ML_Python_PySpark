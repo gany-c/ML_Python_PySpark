{
 "cells": [
  {
   "cell_type": "markdown",
   "id": "2768fcc2",
   "metadata": {},
   "source": [
    "This code doesn't create a cluster and run jobs on it. It just manipulates a PySpark Dataframe."
   ]
  },
  {
   "cell_type": "code",
   "execution_count": 70,
   "id": "36c6edab",
   "metadata": {},
   "outputs": [
    {
     "name": "stdout",
     "output_type": "stream",
     "text": [
      "Hi Gany, This is a sample PySpark installation\n"
     ]
    }
   ],
   "source": [
    "print(\"Hi Gany, This is a sample PySpark installation\")"
   ]
  },
  {
   "cell_type": "code",
   "execution_count": 71,
   "id": "7972ffe0",
   "metadata": {},
   "outputs": [
    {
     "name": "stdout",
     "output_type": "stream",
     "text": [
      "Running `brew update --auto-update`...\n",
      "\u001b[34m==>\u001b[0m \u001b[1mAuto-updated Homebrew!\u001b[0m\n",
      "Updated 2 taps (homebrew/core and homebrew/cask).\n",
      "\n",
      "You have \u001b[1m6\u001b[0m outdated formulae installed.\n",
      "You can upgrade them with \u001b[1mbrew upgrade\u001b[0m\n",
      "or list them with \u001b[1mbrew outdated\u001b[0m.\n",
      "\n",
      "\u001b[33mWarning:\u001b[0m apache-spark 3.3.0 is already installed and up-to-date.\n",
      "To reinstall 3.3.0, run:\n",
      "  brew reinstall apache-spark\n",
      "\u001b[33mWarning:\u001b[0m openjdk@11 11.0.16.1_1 is already installed and up-to-date.\n",
      "To reinstall 11.0.16.1_1, run:\n",
      "  brew reinstall openjdk@11\n"
     ]
    }
   ],
   "source": [
    "#This doesn't work from the notebook, but works from the command line\n",
    "!brew install apache-spark\n",
    "#This doesn't help either from here or the command line. Download java through the browser.\n",
    "# But looks like the brew install from command line actually worked.. look at the PATH and \n",
    "# JAVA_HOME variables in the below cell. They are brew based.\n",
    "!brew install openjdk@11"
   ]
  },
  {
   "cell_type": "code",
   "execution_count": 72,
   "id": "fd6bffa5",
   "metadata": {},
   "outputs": [],
   "source": [
    "!export SPARK_HOME=/opt/homebrew/Cellar/apache-spark/3.3.0/libexec\n",
    "!export PATH=/opt/homebrew/Cellar/apache-spark/3.3.0/bin:$PATH\n",
    "!export PATH=/opt/homebrew/opt/openjdk@11/bin/java:$PATH\n",
    "# looks the case of the JAVA_HOME variable made all the difference    \n",
    "!export JAVA_HOME=/opt/homebrew/opt/openjdk@11/bin/java\n",
    "!export PYSPARK_SUBMIT_ARGS=\"--master local[3] pyspark-shell\""
   ]
  },
  {
   "cell_type": "code",
   "execution_count": 73,
   "id": "59e77397",
   "metadata": {},
   "outputs": [
    {
     "name": "stdout",
     "output_type": "stream",
     "text": [
      "java version \"1.8.0_351\"\n",
      "Java(TM) SE Runtime Environment (build 1.8.0_351-b10)\n",
      "Java HotSpot(TM) 64-Bit Server VM (build 25.351-b10, mixed mode)\n"
     ]
    }
   ],
   "source": [
    "!java -version"
   ]
  },
  {
   "cell_type": "code",
   "execution_count": 74,
   "id": "1f34dd6e",
   "metadata": {},
   "outputs": [
    {
     "name": "stdout",
     "output_type": "stream",
     "text": [
      "Requirement already satisfied: pyspark in /Library/Frameworks/Python.framework/Versions/3.7/lib/python3.7/site-packages (3.3.1)\n",
      "Requirement already satisfied: py4j==0.10.9.5 in /Library/Frameworks/Python.framework/Versions/3.7/lib/python3.7/site-packages (from pyspark) (0.10.9.5)\n",
      "\n",
      "\u001b[1m[\u001b[0m\u001b[34;49mnotice\u001b[0m\u001b[1;39;49m]\u001b[0m\u001b[39;49m A new release of pip available: \u001b[0m\u001b[31;49m22.2\u001b[0m\u001b[39;49m -> \u001b[0m\u001b[32;49m22.3\u001b[0m\n",
      "\u001b[1m[\u001b[0m\u001b[34;49mnotice\u001b[0m\u001b[1;39;49m]\u001b[0m\u001b[39;49m To update, run: \u001b[0m\u001b[32;49mpip install --upgrade pip\u001b[0m\n",
      "Requirement already satisfied: findspark in /Library/Frameworks/Python.framework/Versions/3.7/lib/python3.7/site-packages (2.0.1)\n",
      "\n",
      "\u001b[1m[\u001b[0m\u001b[34;49mnotice\u001b[0m\u001b[1;39;49m]\u001b[0m\u001b[39;49m A new release of pip available: \u001b[0m\u001b[31;49m22.2\u001b[0m\u001b[39;49m -> \u001b[0m\u001b[32;49m22.3\u001b[0m\n",
      "\u001b[1m[\u001b[0m\u001b[34;49mnotice\u001b[0m\u001b[1;39;49m]\u001b[0m\u001b[39;49m To update, run: \u001b[0m\u001b[32;49mpip install --upgrade pip\u001b[0m\n"
     ]
    }
   ],
   "source": [
    "!pip3 install pyspark\n",
    "!pip3 install findspark\n"
   ]
  },
  {
   "cell_type": "code",
   "execution_count": 75,
   "id": "0480d2b7",
   "metadata": {},
   "outputs": [],
   "source": [
    "import findspark\n",
    "findspark.init()"
   ]
  },
  {
   "cell_type": "code",
   "execution_count": 76,
   "id": "b4c101b9",
   "metadata": {},
   "outputs": [],
   "source": [
    "# To create a mock dataframe\n",
    "columns = [\"language\",\"users_count\"]\n",
    "data = [(\"Java\", \"20000\"), (\"Python\", \"100000\"), (\"Scala\", \"3000\")]"
   ]
  },
  {
   "cell_type": "code",
   "execution_count": 77,
   "id": "d356c1f2",
   "metadata": {},
   "outputs": [
    {
     "name": "stdout",
     "output_type": "stream",
     "text": [
      "+--------+-----------+\n",
      "|language|users_count|\n",
      "+--------+-----------+\n",
      "|    Java|      20000|\n",
      "|  Python|     100000|\n",
      "|   Scala|       3000|\n",
      "+--------+-----------+\n",
      "\n"
     ]
    }
   ],
   "source": [
    "import pyspark\n",
    "from pyspark.sql import SparkSession\n",
    "spark = SparkSession.builder.getOrCreate()\n",
    "\n",
    "df = spark.createDataFrame(data,columns)\n",
    "df.show()"
   ]
  },
  {
   "cell_type": "code",
   "execution_count": 78,
   "id": "6d411d0f",
   "metadata": {},
   "outputs": [],
   "source": [
    "challenge_df = spark.read.format(\"csv\").option(\"header\", \"true\").load(\"/Users/gchidam/challenge.csv\")"
   ]
  },
  {
   "cell_type": "code",
   "execution_count": 79,
   "id": "41b09d23",
   "metadata": {},
   "outputs": [
    {
     "name": "stdout",
     "output_type": "stream",
     "text": [
      "+---------------+--------------+-----------------+----------+\n",
      "|     ip_address|       Country|      Domain Name|Bytes_used|\n",
      "+---------------+--------------+-----------------+----------+\n",
      "|  52.81.192.172|         China| odnoklassniki.ru|       463|\n",
      "| 119.239.207.13|         China|         youtu.be|        51|\n",
      "|  68.69.217.210|         China|        adobe.com|        10|\n",
      "|   7.191.21.223|      Bulgaria|     linkedin.com|       853|\n",
      "|   211.13.10.68|     Indonesia|          hud.gov|        29|\n",
      "|   239.80.21.97|      Suriname|       smh.com.au|       218|\n",
      "|106.214.106.233|       Jamaica|    amazonaws.com|        95|\n",
      "| 127.242.24.138|         China| surveymonkey.com|       123|\n",
      "|     99.2.6.139|Czech Republic|     geocities.jp|       322|\n",
      "|   237.54.11.63|         China|       amazon.com|        83|\n",
      "| 252.141.157.25|         Japan|      cornell.edu|       374|\n",
      "|185.220.128.248|       Belgium|       weebly.com|       389|\n",
      "|   151.77.19.45|   Afghanistan|independent.co.uk|       282|\n",
      "|  9.161.158.225|     Indonesia|    bloglines.com|       726|\n",
      "| 156.144.61.155|Czech Republic|   slideshare.net|       657|\n",
      "|   8.96.188.151|     Indonesia|          ibm.com|       517|\n",
      "|      5.72.7.65|        Mexico|         youtu.be|       877|\n",
      "|227.110.112.144|       Croatia|         ehow.com|       287|\n",
      "|    81.71.28.97|      Thailand|          last.fm|       588|\n",
      "|  9.255.129.184|      Thailand|          mtv.com|       114|\n",
      "+---------------+--------------+-----------------+----------+\n",
      "only showing top 20 rows\n",
      "\n"
     ]
    }
   ],
   "source": [
    "challenge_df.show()"
   ]
  },
  {
   "cell_type": "code",
   "execution_count": 80,
   "id": "ff601fc3",
   "metadata": {},
   "outputs": [
    {
     "name": "stdout",
     "output_type": "stream",
     "text": [
      "+---------------+--------------+-----------------+----------+------+\n",
      "|     ip_address|       Country|      Domain Name|Bytes_used|Mexico|\n",
      "+---------------+--------------+-----------------+----------+------+\n",
      "|  52.81.192.172|         China| odnoklassniki.ru|       463|    No|\n",
      "| 119.239.207.13|         China|         youtu.be|        51|    No|\n",
      "|  68.69.217.210|         China|        adobe.com|        10|    No|\n",
      "|   7.191.21.223|      Bulgaria|     linkedin.com|       853|    No|\n",
      "|   211.13.10.68|     Indonesia|          hud.gov|        29|    No|\n",
      "|   239.80.21.97|      Suriname|       smh.com.au|       218|    No|\n",
      "|106.214.106.233|       Jamaica|    amazonaws.com|        95|    No|\n",
      "| 127.242.24.138|         China| surveymonkey.com|       123|    No|\n",
      "|     99.2.6.139|Czech Republic|     geocities.jp|       322|    No|\n",
      "|   237.54.11.63|         China|       amazon.com|        83|    No|\n",
      "| 252.141.157.25|         Japan|      cornell.edu|       374|    No|\n",
      "|185.220.128.248|       Belgium|       weebly.com|       389|    No|\n",
      "|   151.77.19.45|   Afghanistan|independent.co.uk|       282|    No|\n",
      "|  9.161.158.225|     Indonesia|    bloglines.com|       726|    No|\n",
      "| 156.144.61.155|Czech Republic|   slideshare.net|       657|    No|\n",
      "|   8.96.188.151|     Indonesia|          ibm.com|       517|    No|\n",
      "|      5.72.7.65|        Mexico|         youtu.be|       877|   Yes|\n",
      "|227.110.112.144|       Croatia|         ehow.com|       287|    No|\n",
      "|    81.71.28.97|      Thailand|          last.fm|       588|    No|\n",
      "|  9.255.129.184|      Thailand|          mtv.com|       114|    No|\n",
      "+---------------+--------------+-----------------+----------+------+\n",
      "only showing top 20 rows\n",
      "\n"
     ]
    }
   ],
   "source": [
    "# This import is needed to run the when method etc. \n",
    "from pyspark.sql.functions import *\n",
    "challenge_df = challenge_df.withColumn(\"Mexico\", when(challenge_df.Country == \"Mexico\", \"Yes\").otherwise(\"No\"))\n",
    "challenge_df.show()"
   ]
  },
  {
   "cell_type": "code",
   "execution_count": 81,
   "id": "5579136d",
   "metadata": {},
   "outputs": [
    {
     "name": "stdout",
     "output_type": "stream",
     "text": [
      "+------+---------------+\n",
      "|Mexico|sum(Bytes_used)|\n",
      "+------+---------------+\n",
      "|    No|       508076.0|\n",
      "|   Yes|         6293.0|\n",
      "+------+---------------+\n",
      "\n"
     ]
    }
   ],
   "source": [
    "bytes_agg_df = challenge_df.groupBy(\"Mexico\").agg(sum(\"Bytes_used\"))\n",
    "bytes_agg_df.show()"
   ]
  },
  {
   "cell_type": "code",
   "execution_count": 84,
   "id": "c982f16a",
   "metadata": {},
   "outputs": [
    {
     "name": "stdout",
     "output_type": "stream",
     "text": [
      "+-----------+-----------------+\n",
      "|    Country|count(ip_address)|\n",
      "+-----------+-----------------+\n",
      "|       Chad|                1|\n",
      "|     Russia|               56|\n",
      "|   Paraguay|                1|\n",
      "|      Yemen|                1|\n",
      "|     Sweden|               28|\n",
      "|Philippines|               65|\n",
      "|   Malaysia|                5|\n",
      "|     Turkey|                1|\n",
      "|     Malawi|                2|\n",
      "|    Germany|                5|\n",
      "|    Comoros|                1|\n",
      "|Afghanistan|                5|\n",
      "|     Rwanda|                1|\n",
      "|      Sudan|                1|\n",
      "|     France|               21|\n",
      "|     Greece|                8|\n",
      "|  Sri Lanka|                3|\n",
      "|   Dominica|                1|\n",
      "|  Argentina|               14|\n",
      "|    Belgium|                1|\n",
      "+-----------+-----------------+\n",
      "only showing top 20 rows\n",
      "\n"
     ]
    }
   ],
   "source": [
    "unique_ip_count_df = challenge_df.groupBy(\"Country\").agg(countDistinct(\"ip_address\"))\n",
    "unique_ip_count_df.show()"
   ]
  },
  {
   "cell_type": "code",
   "execution_count": null,
   "id": "98f6f635",
   "metadata": {},
   "outputs": [],
   "source": []
  }
 ],
 "metadata": {
  "kernelspec": {
   "display_name": "Python 3 (ipykernel)",
   "language": "python",
   "name": "python3"
  },
  "language_info": {
   "codemirror_mode": {
    "name": "ipython",
    "version": 3
   },
   "file_extension": ".py",
   "mimetype": "text/x-python",
   "name": "python",
   "nbconvert_exporter": "python",
   "pygments_lexer": "ipython3",
   "version": "3.7.4"
  }
 },
 "nbformat": 4,
 "nbformat_minor": 5
}
