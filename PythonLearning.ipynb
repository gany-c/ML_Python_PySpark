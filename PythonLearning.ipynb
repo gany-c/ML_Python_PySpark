{
 "cells": [
  {
   "cell_type": "code",
   "execution_count": 1,
   "id": "fad06daf",
   "metadata": {},
   "outputs": [
    {
     "name": "stdout",
     "output_type": "stream",
     "text": [
      "hi\n"
     ]
    }
   ],
   "source": [
    "print(\"hi\")"
   ]
  },
  {
   "cell_type": "code",
   "execution_count": 1,
   "id": "08c9f341",
   "metadata": {},
   "outputs": [
    {
     "name": "stdout",
     "output_type": "stream",
     "text": [
      "Requirement already satisfied: numpy in /Library/Frameworks/Python.framework/Versions/3.7/lib/python3.7/site-packages (1.21.6)\n",
      "\u001b[33mWARNING: There was an error checking the latest version of pip.\u001b[0m\u001b[33m\n",
      "\u001b[0m"
     ]
    }
   ],
   "source": [
    "!pip install numpy"
   ]
  },
  {
   "cell_type": "code",
   "execution_count": null,
   "id": "a7cd4cd1",
   "metadata": {},
   "outputs": [],
   "source": [
    "#Tuples are immutable\n",
    "#Sets have unique elements"
   ]
  },
  {
   "cell_type": "code",
   "execution_count": 8,
   "id": "7d996762",
   "metadata": {},
   "outputs": [],
   "source": [
    "#numpy is a way of creating and manipulating arrays\n",
    "import numpy as np"
   ]
  },
  {
   "cell_type": "code",
   "execution_count": 9,
   "id": "564302eb",
   "metadata": {},
   "outputs": [
    {
     "name": "stdout",
     "output_type": "stream",
     "text": [
      "[[1 2]\n",
      " [3 4]\n",
      " [5 6]]\n"
     ]
    },
    {
     "data": {
      "text/plain": [
       "numpy.ndarray"
      ]
     },
     "execution_count": 9,
     "metadata": {},
     "output_type": "execute_result"
    }
   ],
   "source": [
    "two_d = np.array([[1, 2], [3,4], [5,6]])\n",
    "print(two_d)\n",
    "type(two_d)"
   ]
  },
  {
   "cell_type": "code",
   "execution_count": 10,
   "id": "e39b7358",
   "metadata": {},
   "outputs": [
    {
     "name": "stdout",
     "output_type": "stream",
     "text": [
      "[0 4 8]\n"
     ]
    }
   ],
   "source": [
    "from_range = np.arange(0, 12, 4)\n",
    "print(from_range)"
   ]
  },
  {
   "cell_type": "code",
   "execution_count": 14,
   "id": "e84f5f9c",
   "metadata": {},
   "outputs": [
    {
     "name": "stdout",
     "output_type": "stream",
     "text": [
      "[[[0. 0. 0. 0. 0.]\n",
      "  [0. 0. 0. 0. 0.]\n",
      "  [0. 0. 0. 0. 0.]]\n",
      "\n",
      " [[0. 0. 0. 0. 0.]\n",
      "  [0. 0. 0. 0. 0.]\n",
      "  [0. 0. 0. 0. 0.]]]\n"
     ]
    }
   ],
   "source": [
    "vacuum = np.zeros([2,3,5])\n",
    "print(vacuum)"
   ]
  },
  {
   "cell_type": "code",
   "execution_count": 16,
   "id": "f5bb0b46",
   "metadata": {},
   "outputs": [
    {
     "name": "stdout",
     "output_type": "stream",
     "text": [
      "[1. 1. 1. 1. 1. 1. 1.]\n"
     ]
    }
   ],
   "source": [
    "unity = np.ones(7)\n",
    "print(unity)"
   ]
  },
  {
   "cell_type": "code",
   "execution_count": 21,
   "id": "458e8381",
   "metadata": {},
   "outputs": [
    {
     "name": "stdout",
     "output_type": "stream",
     "text": [
      "[0.    0.625 1.25  1.875 2.5   3.125 3.75  4.375 5.   ]\n"
     ]
    }
   ],
   "source": [
    "fractional_steps = np.linspace(0, 5, 9)\n",
    "print(fractional_steps)"
   ]
  },
  {
   "cell_type": "code",
   "execution_count": 24,
   "id": "44c23f0a",
   "metadata": {},
   "outputs": [
    {
     "name": "stdout",
     "output_type": "stream",
     "text": [
      "[[1. 0. 0.]\n",
      " [0. 1. 0.]\n",
      " [0. 0. 1.]]\n"
     ]
    }
   ],
   "source": [
    "#creates an identity matrix\n",
    "x = np.eye(3)\n",
    "print(x)"
   ]
  },
  {
   "cell_type": "code",
   "execution_count": 26,
   "id": "bcaa179b",
   "metadata": {},
   "outputs": [
    {
     "name": "stdout",
     "output_type": "stream",
     "text": [
      "[[0.00503439 0.95150582 0.43769725]\n",
      " [0.9018106  0.36384037 0.22918666]\n",
      " [0.62119464 0.37535972 0.47159865]]\n"
     ]
    }
   ],
   "source": [
    "#syntax is different from zeros\n",
    "rand = np.random.rand(3, 3)\n",
    "print(rand)"
   ]
  },
  {
   "cell_type": "code",
   "execution_count": 27,
   "id": "5173574e",
   "metadata": {},
   "outputs": [
    {
     "name": "stdout",
     "output_type": "stream",
     "text": [
      "[[ 1.04830705  0.26726939 -0.08232913]\n",
      " [ 0.94559736  1.10057747 -0.58459916]\n",
      " [ 1.08260086  0.2798524   0.0776996 ]]\n"
     ]
    }
   ],
   "source": [
    "# This generates random numbers from a normal distribution\n",
    "rand_n = np.random.randn(3, 3)\n",
    "print(rand_n)"
   ]
  },
  {
   "cell_type": "code",
   "execution_count": 32,
   "id": "495ec27d",
   "metadata": {},
   "outputs": [
    {
     "name": "stdout",
     "output_type": "stream",
     "text": [
      "[26  6  5 28 10  9]\n"
     ]
    }
   ],
   "source": [
    "# upper limit, lower limit, number of random numbers\n",
    "rand_int = np.random.randint(2,30, 6)\n",
    "print(rand_int)"
   ]
  },
  {
   "cell_type": "code",
   "execution_count": 34,
   "id": "f81503b4",
   "metadata": {},
   "outputs": [
    {
     "name": "stdout",
     "output_type": "stream",
     "text": [
      "[[26  6  5]\n",
      " [28 10  9]]\n"
     ]
    }
   ],
   "source": [
    "#the counts and dimensions should fit exactly\n",
    "rand_int = rand_int.reshape(2,3)\n",
    "print(rand_int)"
   ]
  },
  {
   "cell_type": "code",
   "execution_count": 35,
   "id": "a1f16cc7",
   "metadata": {},
   "outputs": [
    {
     "name": "stdout",
     "output_type": "stream",
     "text": [
      "28\n"
     ]
    }
   ],
   "source": [
    "print(rand_int.max())"
   ]
  },
  {
   "cell_type": "code",
   "execution_count": 36,
   "id": "0329a53c",
   "metadata": {},
   "outputs": [
    {
     "name": "stdout",
     "output_type": "stream",
     "text": [
      "5\n"
     ]
    }
   ],
   "source": [
    "print(rand_int.min())"
   ]
  },
  {
   "cell_type": "code",
   "execution_count": 38,
   "id": "27505133",
   "metadata": {},
   "outputs": [
    {
     "name": "stdout",
     "output_type": "stream",
     "text": [
      "3\n"
     ]
    }
   ],
   "source": [
    "print(rand_int.argmax())"
   ]
  },
  {
   "cell_type": "code",
   "execution_count": 40,
   "id": "aab167fe",
   "metadata": {},
   "outputs": [
    {
     "name": "stdout",
     "output_type": "stream",
     "text": [
      "int64\n"
     ]
    }
   ],
   "source": [
    "print(rand_int.dtype)"
   ]
  },
  {
   "cell_type": "code",
   "execution_count": null,
   "id": "ed78de45",
   "metadata": {},
   "outputs": [],
   "source": []
  }
 ],
 "metadata": {
  "kernelspec": {
   "display_name": "Python 3 (ipykernel)",
   "language": "python",
   "name": "python3"
  },
  "language_info": {
   "codemirror_mode": {
    "name": "ipython",
    "version": 3
   },
   "file_extension": ".py",
   "mimetype": "text/x-python",
   "name": "python",
   "nbconvert_exporter": "python",
   "pygments_lexer": "ipython3",
   "version": "3.7.4"
  }
 },
 "nbformat": 4,
 "nbformat_minor": 5
}
